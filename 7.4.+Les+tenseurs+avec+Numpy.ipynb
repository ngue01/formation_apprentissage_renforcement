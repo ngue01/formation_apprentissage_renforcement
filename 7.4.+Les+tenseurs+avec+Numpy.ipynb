{
  "nbformat": 4,
  "nbformat_minor": 0,
  "metadata": {
    "colab": {
      "name": "ExemplesTenseurs.ipynb",
      "provenance": []
    },
    "kernelspec": {
      "name": "python3",
      "display_name": "Python 3"
    },
    "language_info": {
      "name": "python"
    }
  },
  "cells": [
    {
      "cell_type": "markdown",
      "source": [
        "#**Informations sur l'utilisation des tenseurs avec la librairie Numpy**"
      ],
      "metadata": {
        "id": "WzToqBkPBXCi"
      }
    },
    {
      "cell_type": "markdown",
      "source": [
        "###**1. Qu'est-ce qu'un tenseur ?**"
      ],
      "metadata": {
        "id": "xIcdbkSUG7iE"
      }
    },
    {
      "cell_type": "markdown",
      "source": [
        "Les programmes que nous mettrons en place utilisen les **tenseurs** avec la librairie [Numpy](https://numpy.org/). Un tenseur est un tableau de nombres à plusieurs dimensions. Voici des exemples de tenseurs:\n",
        "- un scalaire $k$ est un tenseur de dimension 0\n",
        "- un vecteur $V$ est un tenseur de dimension 1 (c'est un tableau à une seule dimension)\n",
        "- une matrice $M$ est un tenseur de dimension 2 (c'est un tableau à deux dimensions)\n",
        "- un tenseur $T$ de dimension 3 est un tableau à 3 dimensions"
      ],
      "metadata": {
        "id": "hXfy1qQJBkBz"
      }
    },
    {
      "cell_type": "markdown",
      "source": [
        "Voici une illustration pour les trois situations précédentes:"
      ],
      "metadata": {
        "id": "5O34629NCC6N"
      }
    },
    {
      "cell_type": "markdown",
      "source": [
        "<center><img src=\"https://github.com/AlexandreBourrieau/FICHIERS/blob/main/RL/Concept_RL17.png?raw=true\" width=\"480\"></img></center>"
      ],
      "metadata": {
        "id": "J9ocAjB9EZ6f"
      }
    },
    {
      "cell_type": "markdown",
      "source": [
        "###**2. Un peu de vocabulaire**"
      ],
      "metadata": {
        "id": "uzTH_m7VHSyd"
      }
    },
    {
      "cell_type": "markdown",
      "source": [
        "**Dimension**\n",
        "- C'est le nombre d'indices qu'il faut utiliser pour accéder à un élément. Chaque indice correspond à un **axe**.\n",
        "- Vecteur : dimension 1 (1 indice)\n",
        "- Matrice : dimension 2 (2 indices)\n",
        "- n-tenseur : dimension n (n indices)\n",
        "\n",
        "**Format (shape)**\n",
        "- C'est la liste des longueurs de chaque axe\n",
        "- Un vecteur de longueur 3 a pour format (3) que l'on note plutôt (3,)\n",
        "- Une matrice 3x4 a pour format (3,4)\n",
        "- Un tenseur de format (3,5,7,11) est un tenseur de dimension 4\n",
        "\n",
        "**Nombre d'éléments**\n",
        "- C'est le nombre total d'éléments nécessaire pour définir un tenseur. Cela correspond au nombre d'emplacements qu'il faut réserver dans la mémoire pour stocker le tenseur.\n",
        "- Un vecteur de longueur 3 possède 3 éléments\n",
        "- Une matrice 3x4 possède 3x4=12 éléments\n",
        "- Un tenseur de format (3,5,7,11) possède 3x5x7x11 éléments"
      ],
      "metadata": {
        "id": "iqlYFjieHZgL"
      }
    },
    {
      "cell_type": "markdown",
      "source": [
        "###**3. Exemples de déclaration de tenseurs avec numpy**"
      ],
      "metadata": {
        "id": "mYFrT20sHHy_"
      }
    },
    {
      "cell_type": "code",
      "source": [
        "# Tenseur d'ordre 0 : Scalaire\n",
        "import numpy as np\n",
        "\n",
        "k = np.array(10)\n",
        "print(k)\n",
        "print(k.shape)"
      ],
      "metadata": {
        "id": "rpGXJLI3BUDZ"
      },
      "execution_count": null,
      "outputs": []
    },
    {
      "cell_type": "code",
      "source": [
        "# Tenseur d'ordre 1 : Vecteur\n",
        "import numpy as np\n",
        "\n",
        "V = np.array([5,7,8])\n",
        "print(V)\n",
        "print(V.shape)"
      ],
      "metadata": {
        "id": "lA4417AoI3VW"
      },
      "execution_count": null,
      "outputs": []
    },
    {
      "cell_type": "code",
      "source": [
        "# Tenseur d'ordre 2 : Matrice 2x3\n",
        "import numpy as np\n",
        "\n",
        "M = np.array([[6,0,2],\n",
        "              [3,2,4]])\n",
        "print(M)\n",
        "print(M.shape)"
      ],
      "metadata": {
        "id": "OdzfEGrII_eV"
      },
      "execution_count": null,
      "outputs": []
    },
    {
      "cell_type": "code",
      "source": [
        "# Tenseur d'ordre 3 \n",
        "import numpy as np\n",
        "\n",
        "T = np.array([[[5, 1, 0],\n",
        "               [3, 3, 2]],\n",
        "              [[1, 1, 0],\n",
        "               [5, 1, 7]],\n",
        "              [[0, 0, 1],\n",
        "               [8, 1, 9]] ])\n",
        "print(T)\n",
        "print(T.shape)"
      ],
      "metadata": {
        "id": "bRdumaSDJSoP"
      },
      "execution_count": null,
      "outputs": []
    },
    {
      "cell_type": "code",
      "source": [
        "# Déclarer un tenseur nul\n",
        "\n",
        "T0 = np.zeros(shape=(3,2,2))\n",
        "print(T0)\n",
        "print(T0.shape)"
      ],
      "metadata": {
        "id": "vLZjLf6QLhfb"
      },
      "execution_count": null,
      "outputs": []
    },
    {
      "cell_type": "markdown",
      "source": [
        "###**4. Accéder aux valeurs des tenseurs**"
      ],
      "metadata": {
        "id": "pZNW3dIaJolw"
      }
    },
    {
      "cell_type": "code",
      "source": [
        "# Accéder à l'indice 0 de l'axe 0\n",
        "\n",
        "T[0,:,:]"
      ],
      "metadata": {
        "id": "yWz54kiSJvvO"
      },
      "execution_count": null,
      "outputs": []
    },
    {
      "cell_type": "code",
      "source": [
        "# Accéder aux indices 0 et 1 de l'axe 0\n",
        "\n",
        "T[0:2,:,:]"
      ],
      "metadata": {
        "id": "kB4h0cx0KAVH"
      },
      "execution_count": null,
      "outputs": []
    },
    {
      "cell_type": "code",
      "source": [
        "# Accéder au dernier indice de l'axe 0\n",
        "\n",
        "T[-1,:,:]"
      ],
      "metadata": {
        "id": "bcXfgMHfKJh3"
      },
      "execution_count": null,
      "outputs": []
    },
    {
      "cell_type": "markdown",
      "source": [
        "###**5. Changer le format d'un tenseur**"
      ],
      "metadata": {
        "id": "QsFEM5eGKVPA"
      }
    },
    {
      "cell_type": "code",
      "source": [
        "# Fusionner deux dimensions\n",
        "T2 = np.reshape(T,(3,2*3))\n",
        "print(T2)\n",
        "print(T2.shape)"
      ],
      "metadata": {
        "id": "CZ6gYZ1xKYb3"
      },
      "execution_count": null,
      "outputs": []
    },
    {
      "cell_type": "code",
      "source": [
        "# Ajouter une dimension à gauche d'un tenseur\n",
        "\n",
        "T3 = np.expand_dims(T,0)\n",
        "print(T3)\n",
        "print(T3.shape)"
      ],
      "metadata": {
        "id": "Hh56l7AlKnRv"
      },
      "execution_count": null,
      "outputs": []
    },
    {
      "cell_type": "code",
      "source": [
        "# Supprimer une dimension\n",
        "\n",
        "T4 = np.squeeze(T3,0)\n",
        "print(T4)\n",
        "print(T4.shape)"
      ],
      "metadata": {
        "id": "pSJjY81CK6q6"
      },
      "execution_count": null,
      "outputs": []
    }
  ]
}